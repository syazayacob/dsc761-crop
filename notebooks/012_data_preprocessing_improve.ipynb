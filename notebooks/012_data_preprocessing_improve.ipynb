{
 "cells": [
  {
   "cell_type": "code",
   "execution_count": 2,
   "id": "e77e13d4",
   "metadata": {},
   "outputs": [],
   "source": [
    "# Imports\n",
    "import pandas as pd\n",
    "import numpy as np\n",
    "from scipy.stats.mstats import winsorize\n",
    "import matplotlib.pyplot as plt\n",
    "import seaborn as sns"
   ]
  },
  {
   "cell_type": "code",
   "execution_count": 3,
   "id": "54d5fb25",
   "metadata": {},
   "outputs": [],
   "source": [
    "# Display full columns in output\n",
    "pd.set_option('display.max_columns', 100)"
   ]
  },
  {
   "cell_type": "code",
   "execution_count": 4,
   "id": "b6bcd24f",
   "metadata": {},
   "outputs": [],
   "source": [
    "# Load dataset\n",
    "df = pd.read_csv(\"../data/crop1.csv\")\n",
    "#url = \"https://huggingface.co/datasets/syazayacob/crop1/resolve/main/crop1.csv\"\n",
    "#df = pd.read_csv(url)\n"
   ]
  },
  {
   "cell_type": "code",
   "execution_count": 5,
   "id": "464aa126",
   "metadata": {},
   "outputs": [
    {
     "name": "stdout",
     "output_type": "stream",
     "text": [
      "          Area                 Item         Element  Year Unit   Value\n",
      "0  Afghanistan  Almonds, with shell  Area harvested  1975   ha     0.0\n",
      "1  Afghanistan  Almonds, with shell  Area harvested  1976   ha  5900.0\n",
      "2  Afghanistan  Almonds, with shell  Area harvested  1977   ha  6000.0\n"
     ]
    }
   ],
   "source": [
    "print(df.head(3))"
   ]
  },
  {
   "cell_type": "code",
   "execution_count": 6,
   "id": "be2fa6c9",
   "metadata": {},
   "outputs": [],
   "source": [
    "# --- 1. Filter Relevant Elements and Years ---\n",
    "relevant_elements = ['Production', 'Area harvested', 'Yield']\n",
    "df = df[df['Element'].isin(relevant_elements)]\n",
    "df = df[df['Year'].between(1961, 2020)]"
   ]
  },
  {
   "cell_type": "code",
   "execution_count": 7,
   "id": "0ed82c5d",
   "metadata": {},
   "outputs": [
    {
     "name": "stdout",
     "output_type": "stream",
     "text": [
      "['Area harvested' 'Yield' 'Production']\n",
      "1961 2020\n"
     ]
    }
   ],
   "source": [
    "print(df[\"Element\"].unique())\n",
    "print(df[\"Year\"].min(), df[\"Year\"].max())"
   ]
  },
  {
   "cell_type": "code",
   "execution_count": 8,
   "id": "704fa9b8",
   "metadata": {},
   "outputs": [],
   "source": [
    "# Combine Element and Unit\n",
    "df[\"Element_Unit\"] = df[\"Element\"] + \" (\" + df[\"Unit\"] + \")\""
   ]
  },
  {
   "cell_type": "code",
   "execution_count": 9,
   "id": "9fc341fb",
   "metadata": {},
   "outputs": [
    {
     "name": "stdout",
     "output_type": "stream",
     "text": [
      "           Element    Unit         Element_Unit\n",
      "0   Area harvested      ha  Area harvested (ha)\n",
      "46           Yield   hg/ha        Yield (hg/ha)\n",
      "91      Production  tonnes  Production (tonnes)\n"
     ]
    }
   ],
   "source": [
    "print(df[[\"Element\", \"Unit\", \"Element_Unit\"]].drop_duplicates().head())"
   ]
  },
  {
   "cell_type": "code",
   "execution_count": 10,
   "id": "0fe62d11",
   "metadata": {},
   "outputs": [],
   "source": [
    "# --- 2. Handle Missing Values ---\n",
    "df = df.dropna(subset=[\"Value\"])"
   ]
  },
  {
   "cell_type": "code",
   "execution_count": 11,
   "id": "4f9fcfaa",
   "metadata": {},
   "outputs": [
    {
     "name": "stdout",
     "output_type": "stream",
     "text": [
      "Area            0\n",
      "Item            0\n",
      "Element         0\n",
      "Year            0\n",
      "Unit            0\n",
      "Value           0\n",
      "Element_Unit    0\n",
      "dtype: int64\n"
     ]
    }
   ],
   "source": [
    "print(df.isna().sum())"
   ]
  },
  {
   "cell_type": "code",
   "execution_count": 12,
   "id": "b6756e7a",
   "metadata": {},
   "outputs": [],
   "source": [
    "# --- 3. Winsorization ---\n",
    "df[\"Value_winsor\"] = winsorize(df[\"Value\"], limits=[0.01, 0.01])"
   ]
  },
  {
   "cell_type": "code",
   "execution_count": 13,
   "id": "d2c39b9c",
   "metadata": {},
   "outputs": [
    {
     "name": "stdout",
     "output_type": "stream",
     "text": [
      "    Value  Value_winsor\n",
      "0     0.0           6.0\n",
      "1  5900.0        5900.0\n",
      "2  6000.0        6000.0\n",
      "3  6000.0        6000.0\n",
      "4  6000.0        6000.0\n"
     ]
    }
   ],
   "source": [
    "print(df[[\"Value\", \"Value_winsor\"]].head())"
   ]
  },
  {
   "cell_type": "code",
   "execution_count": 14,
   "id": "4dc08df7",
   "metadata": {},
   "outputs": [],
   "source": [
    "# --- 4. Log Transformation ---\n",
    "df[\"Value_log\"] = np.log1p(df[\"Value_winsor\"])  # log(1 + x) handles 0 safely"
   ]
  },
  {
   "cell_type": "code",
   "execution_count": 15,
   "id": "2f5b49d3",
   "metadata": {},
   "outputs": [
    {
     "name": "stdout",
     "output_type": "stream",
     "text": [
      "   Value_winsor  Value_log\n",
      "0           6.0   1.945910\n",
      "1        5900.0   8.682877\n",
      "2        6000.0   8.699681\n",
      "3        6000.0   8.699681\n",
      "4        6000.0   8.699681\n"
     ]
    }
   ],
   "source": [
    "print(df[[\"Value_winsor\", \"Value_log\"]].head())"
   ]
  },
  {
   "cell_type": "code",
   "execution_count": 16,
   "id": "6a0c2c81",
   "metadata": {},
   "outputs": [],
   "source": [
    "# --- 5. Decade Binning ---\n",
    "df[\"Decade\"] = (df[\"Year\"] // 10) * 10"
   ]
  },
  {
   "cell_type": "code",
   "execution_count": 17,
   "id": "12934101",
   "metadata": {},
   "outputs": [
    {
     "name": "stdout",
     "output_type": "stream",
     "text": [
      "     Year  Decade\n",
      "292  1961    1960\n",
      "293  1962    1960\n",
      "294  1963    1960\n",
      "295  1964    1960\n",
      "296  1965    1960\n"
     ]
    }
   ],
   "source": [
    "print(df[[\"Year\", \"Decade\"]].drop_duplicates().sort_values(\"Year\").head(5))"
   ]
  },
  {
   "cell_type": "code",
   "execution_count": 18,
   "id": "d5100e8b",
   "metadata": {},
   "outputs": [],
   "source": [
    "# --- 6. Pivot Table for Raw Values ---\n",
    "pivot_df = df.pivot_table(\n",
    "    index=[\"Area\", \"Item\", \"Year\"],\n",
    "    columns=\"Element\",\n",
    "    values=\"Value\",\n",
    "    aggfunc=\"mean\"\n",
    ").reset_index()"
   ]
  },
  {
   "cell_type": "code",
   "execution_count": 19,
   "id": "4d42bba9",
   "metadata": {},
   "outputs": [
    {
     "name": "stdout",
     "output_type": "stream",
     "text": [
      "Element         Area                 Item  Year  Area harvested  Production  \\\n",
      "0        Afghanistan  Almonds, with shell  1975             0.0         0.0   \n",
      "1        Afghanistan  Almonds, with shell  1976          5900.0      9800.0   \n",
      "2        Afghanistan  Almonds, with shell  1977          6000.0      9000.0   \n",
      "\n",
      "Element    Yield  \n",
      "0            NaN  \n",
      "1        16610.0  \n",
      "2        15000.0  \n"
     ]
    }
   ],
   "source": [
    "print(pivot_df.head(3))"
   ]
  },
  {
   "cell_type": "code",
   "execution_count": 20,
   "id": "8522aaf3",
   "metadata": {},
   "outputs": [],
   "source": [
    "# --- 7. Pivot Table for Log-Transformed Values ---\n",
    "pivot_df_log = df.pivot_table(\n",
    "    index=[\"Area\", \"Item\", \"Year\"],\n",
    "    columns=\"Element\",\n",
    "    values=\"Value_log\",\n",
    "    aggfunc=\"mean\"\n",
    ").reset_index()"
   ]
  },
  {
   "cell_type": "code",
   "execution_count": 21,
   "id": "91cd68c7",
   "metadata": {},
   "outputs": [
    {
     "name": "stdout",
     "output_type": "stream",
     "text": [
      "Element         Area                 Item  Year  Area harvested  Production  \\\n",
      "0        Afghanistan  Almonds, with shell  1975        1.945910    1.945910   \n",
      "1        Afghanistan  Almonds, with shell  1976        8.682877    9.190240   \n",
      "2        Afghanistan  Almonds, with shell  1977        8.699681    9.105091   \n",
      "\n",
      "Element     Yield  \n",
      "0             NaN  \n",
      "1        9.717820  \n",
      "2        9.615872  \n"
     ]
    }
   ],
   "source": [
    "print(pivot_df_log.head(3))"
   ]
  },
  {
   "cell_type": "code",
   "execution_count": 22,
   "id": "26c48b48",
   "metadata": {},
   "outputs": [],
   "source": [
    "import os\n",
    "\n",
    "# Create folder if it doesn't exist\n",
    "os.makedirs(\"../data/improve\", exist_ok=True)"
   ]
  },
  {
   "cell_type": "code",
   "execution_count": 23,
   "id": "23b7c184",
   "metadata": {},
   "outputs": [],
   "source": [
    "# Save Cleaned Data\n",
    "df.to_csv(\"../data/improve/crop1_clean.csv\", index=False)\n",
    "pivot_df.to_csv(\"../data/improve/crop_data_pivot.csv\", index=False)\n",
    "pivot_df_log.to_csv(\"../data/improve/crop_data_pivot_log.csv\", index=False)"
   ]
  },
  {
   "cell_type": "code",
   "execution_count": 24,
   "id": "ef65a84a",
   "metadata": {},
   "outputs": [
    {
     "data": {
      "image/png": "[encoded data removed]",
      "text/plain": [
       "<Figure size 640x480 with 1 Axes>"
      ]
     },
     "metadata": {},
     "output_type": "display_data"
    }
   ],
   "source": [
    "# --- 9. Optional: Visualize Distribution ---\n",
    "sns.boxplot(data=df, x=\"Element\", y=\"Value_log\")\n",
    "plt.title(\"Log-Transformed Value Distribution by Element\")\n",
    "plt.xticks(rotation=45)\n",
    "plt.tight_layout()\n",
    "plt.show()"
   ]
  }
 ],
 "metadata": {
  "kernelspec": {
   "display_name": "base",
   "language": "python",
   "name": "python3"
  },
  "language_info": {
   "codemirror_mode": {
    "name": "ipython",
    "version": 3
   },
   "file_extension": ".py",
   "mimetype": "text/x-python",
   "name": "python",
   "nbconvert_exporter": "python",
   "pygments_lexer": "ipython3",
   "version": "3.12.7"
  }
 },
 "nbformat": 4,
 "nbformat_minor": 5
}
