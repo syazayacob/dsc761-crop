{
 "cells": [
  {
   "cell_type": "markdown",
   "id": "e96deff4",
   "metadata": {},
   "source": [
    "Imports"
   ]
  },
  {
   "cell_type": "code",
   "execution_count": 21,
   "id": "c8230f2b",
   "metadata": {},
   "outputs": [],
   "source": [
    "import pandas as pd\n",
    "import numpy as np\n",
    "from scipy.stats.mstats import winsorize\n",
    "import matplotlib.pyplot as plt\n",
    "import seaborn as sns\n",
    "\n",
    "pd.set_option('display.max_columns', 100)"
   ]
  },
  {
   "cell_type": "markdown",
   "id": "f6430eff",
   "metadata": {},
   "source": [
    "Load Dataset"
   ]
  },
  {
   "cell_type": "code",
   "execution_count": 22,
   "id": "170aa5c1",
   "metadata": {},
   "outputs": [
    {
     "data": {
      "text/html": [
       "<div>\n",
       "<style scoped>\n",
       "    .dataframe tbody tr th:only-of-type {\n",
       "        vertical-align: middle;\n",
       "    }\n",
       "\n",
       "    .dataframe tbody tr th {\n",
       "        vertical-align: top;\n",
       "    }\n",
       "\n",
       "    .dataframe thead th {\n",
       "        text-align: right;\n",
       "    }\n",
       "</style>\n",
       "<table border=\"1\" class=\"dataframe\">\n",
       "  <thead>\n",
       "    <tr style=\"text-align: right;\">\n",
       "      <th></th>\n",
       "      <th>Area</th>\n",
       "      <th>Item</th>\n",
       "      <th>Element</th>\n",
       "      <th>Year</th>\n",
       "      <th>Unit</th>\n",
       "      <th>Value</th>\n",
       "    </tr>\n",
       "  </thead>\n",
       "  <tbody>\n",
       "    <tr>\n",
       "      <th>0</th>\n",
       "      <td>Afghanistan</td>\n",
       "      <td>Almonds, with shell</td>\n",
       "      <td>Area harvested</td>\n",
       "      <td>1975</td>\n",
       "      <td>ha</td>\n",
       "      <td>0.0</td>\n",
       "    </tr>\n",
       "    <tr>\n",
       "      <th>1</th>\n",
       "      <td>Afghanistan</td>\n",
       "      <td>Almonds, with shell</td>\n",
       "      <td>Area harvested</td>\n",
       "      <td>1976</td>\n",
       "      <td>ha</td>\n",
       "      <td>5900.0</td>\n",
       "    </tr>\n",
       "    <tr>\n",
       "      <th>2</th>\n",
       "      <td>Afghanistan</td>\n",
       "      <td>Almonds, with shell</td>\n",
       "      <td>Area harvested</td>\n",
       "      <td>1977</td>\n",
       "      <td>ha</td>\n",
       "      <td>6000.0</td>\n",
       "    </tr>\n",
       "    <tr>\n",
       "      <th>3</th>\n",
       "      <td>Afghanistan</td>\n",
       "      <td>Almonds, with shell</td>\n",
       "      <td>Area harvested</td>\n",
       "      <td>1978</td>\n",
       "      <td>ha</td>\n",
       "      <td>6000.0</td>\n",
       "    </tr>\n",
       "    <tr>\n",
       "      <th>4</th>\n",
       "      <td>Afghanistan</td>\n",
       "      <td>Almonds, with shell</td>\n",
       "      <td>Area harvested</td>\n",
       "      <td>1979</td>\n",
       "      <td>ha</td>\n",
       "      <td>6000.0</td>\n",
       "    </tr>\n",
       "  </tbody>\n",
       "</table>\n",
       "</div>"
      ],
      "text/plain": [
       "          Area                 Item         Element  Year Unit   Value\n",
       "0  Afghanistan  Almonds, with shell  Area harvested  1975   ha     0.0\n",
       "1  Afghanistan  Almonds, with shell  Area harvested  1976   ha  5900.0\n",
       "2  Afghanistan  Almonds, with shell  Area harvested  1977   ha  6000.0\n",
       "3  Afghanistan  Almonds, with shell  Area harvested  1978   ha  6000.0\n",
       "4  Afghanistan  Almonds, with shell  Area harvested  1979   ha  6000.0"
      ]
     },
     "execution_count": 22,
     "metadata": {},
     "output_type": "execute_result"
    }
   ],
   "source": [
    "# Load raw data\n",
    "df = pd.read_csv(\"../data/crop1.csv\")\n",
    "\n",
    "# Preview\n",
    "df.head()\n"
   ]
  },
  {
   "cell_type": "code",
   "execution_count": 23,
   "id": "fb5b6b82",
   "metadata": {},
   "outputs": [
    {
     "name": "stdout",
     "output_type": "stream",
     "text": [
      "<class 'pandas.core.frame.DataFrame'>\n",
      "RangeIndex: 1895975 entries, 0 to 1895974\n",
      "Data columns (total 6 columns):\n",
      " #   Column   Dtype  \n",
      "---  ------   -----  \n",
      " 0   Area     object \n",
      " 1   Item     object \n",
      " 2   Element  object \n",
      " 3   Year     int64  \n",
      " 4   Unit     object \n",
      " 5   Value    float64\n",
      "dtypes: float64(1), int64(1), object(4)\n",
      "memory usage: 86.8+ MB\n"
     ]
    }
   ],
   "source": [
    "# Check structure\n",
    "df.info()"
   ]
  },
  {
   "cell_type": "code",
   "execution_count": 24,
   "id": "cf98c213",
   "metadata": {},
   "outputs": [
    {
     "data": {
      "text/html": [
       "<div>\n",
       "<style scoped>\n",
       "    .dataframe tbody tr th:only-of-type {\n",
       "        vertical-align: middle;\n",
       "    }\n",
       "\n",
       "    .dataframe tbody tr th {\n",
       "        vertical-align: top;\n",
       "    }\n",
       "\n",
       "    .dataframe thead th {\n",
       "        text-align: right;\n",
       "    }\n",
       "</style>\n",
       "<table border=\"1\" class=\"dataframe\">\n",
       "  <thead>\n",
       "    <tr style=\"text-align: right;\">\n",
       "      <th></th>\n",
       "      <th>Year</th>\n",
       "      <th>Value</th>\n",
       "    </tr>\n",
       "  </thead>\n",
       "  <tbody>\n",
       "    <tr>\n",
       "      <th>count</th>\n",
       "      <td>1.895975e+06</td>\n",
       "      <td>1.766475e+06</td>\n",
       "    </tr>\n",
       "    <tr>\n",
       "      <th>mean</th>\n",
       "      <td>1.992321e+03</td>\n",
       "      <td>1.077275e+06</td>\n",
       "    </tr>\n",
       "    <tr>\n",
       "      <th>std</th>\n",
       "      <td>1.718118e+01</td>\n",
       "      <td>1.403138e+07</td>\n",
       "    </tr>\n",
       "    <tr>\n",
       "      <th>min</th>\n",
       "      <td>1.961000e+03</td>\n",
       "      <td>0.000000e+00</td>\n",
       "    </tr>\n",
       "    <tr>\n",
       "      <th>25%</th>\n",
       "      <td>1.978000e+03</td>\n",
       "      <td>4.500000e+03</td>\n",
       "    </tr>\n",
       "    <tr>\n",
       "      <th>50%</th>\n",
       "      <td>1.994000e+03</td>\n",
       "      <td>2.687500e+04</td>\n",
       "    </tr>\n",
       "    <tr>\n",
       "      <th>75%</th>\n",
       "      <td>2.007000e+03</td>\n",
       "      <td>1.303910e+05</td>\n",
       "    </tr>\n",
       "    <tr>\n",
       "      <th>max</th>\n",
       "      <td>2.020000e+03</td>\n",
       "      <td>1.955308e+09</td>\n",
       "    </tr>\n",
       "  </tbody>\n",
       "</table>\n",
       "</div>"
      ],
      "text/plain": [
       "               Year         Value\n",
       "count  1.895975e+06  1.766475e+06\n",
       "mean   1.992321e+03  1.077275e+06\n",
       "std    1.718118e+01  1.403138e+07\n",
       "min    1.961000e+03  0.000000e+00\n",
       "25%    1.978000e+03  4.500000e+03\n",
       "50%    1.994000e+03  2.687500e+04\n",
       "75%    2.007000e+03  1.303910e+05\n",
       "max    2.020000e+03  1.955308e+09"
      ]
     },
     "execution_count": 24,
     "metadata": {},
     "output_type": "execute_result"
    }
   ],
   "source": [
    "# Summary statistics\n",
    "df.describe()"
   ]
  },
  {
   "cell_type": "markdown",
   "id": "40fdb263",
   "metadata": {},
   "source": [
    "Clean Filter: Relevant Elements + Valid Years"
   ]
  },
  {
   "cell_type": "code",
   "execution_count": 25,
   "id": "3e0873c7",
   "metadata": {},
   "outputs": [
    {
     "data": {
      "text/html": [
       "<div>\n",
       "<style scoped>\n",
       "    .dataframe tbody tr th:only-of-type {\n",
       "        vertical-align: middle;\n",
       "    }\n",
       "\n",
       "    .dataframe tbody tr th {\n",
       "        vertical-align: top;\n",
       "    }\n",
       "\n",
       "    .dataframe thead th {\n",
       "        text-align: right;\n",
       "    }\n",
       "</style>\n",
       "<table border=\"1\" class=\"dataframe\">\n",
       "  <thead>\n",
       "    <tr style=\"text-align: right;\">\n",
       "      <th></th>\n",
       "      <th>Area</th>\n",
       "      <th>Item</th>\n",
       "      <th>Element</th>\n",
       "      <th>Year</th>\n",
       "      <th>Unit</th>\n",
       "      <th>Value</th>\n",
       "      <th>Element_Unit</th>\n",
       "    </tr>\n",
       "  </thead>\n",
       "  <tbody>\n",
       "    <tr>\n",
       "      <th>0</th>\n",
       "      <td>Afghanistan</td>\n",
       "      <td>Almonds, with shell</td>\n",
       "      <td>Area harvested</td>\n",
       "      <td>1975</td>\n",
       "      <td>ha</td>\n",
       "      <td>0.0</td>\n",
       "      <td>Area harvested (ha)</td>\n",
       "    </tr>\n",
       "    <tr>\n",
       "      <th>1</th>\n",
       "      <td>Afghanistan</td>\n",
       "      <td>Almonds, with shell</td>\n",
       "      <td>Area harvested</td>\n",
       "      <td>1976</td>\n",
       "      <td>ha</td>\n",
       "      <td>5900.0</td>\n",
       "      <td>Area harvested (ha)</td>\n",
       "    </tr>\n",
       "    <tr>\n",
       "      <th>2</th>\n",
       "      <td>Afghanistan</td>\n",
       "      <td>Almonds, with shell</td>\n",
       "      <td>Area harvested</td>\n",
       "      <td>1977</td>\n",
       "      <td>ha</td>\n",
       "      <td>6000.0</td>\n",
       "      <td>Area harvested (ha)</td>\n",
       "    </tr>\n",
       "    <tr>\n",
       "      <th>3</th>\n",
       "      <td>Afghanistan</td>\n",
       "      <td>Almonds, with shell</td>\n",
       "      <td>Area harvested</td>\n",
       "      <td>1978</td>\n",
       "      <td>ha</td>\n",
       "      <td>6000.0</td>\n",
       "      <td>Area harvested (ha)</td>\n",
       "    </tr>\n",
       "    <tr>\n",
       "      <th>4</th>\n",
       "      <td>Afghanistan</td>\n",
       "      <td>Almonds, with shell</td>\n",
       "      <td>Area harvested</td>\n",
       "      <td>1979</td>\n",
       "      <td>ha</td>\n",
       "      <td>6000.0</td>\n",
       "      <td>Area harvested (ha)</td>\n",
       "    </tr>\n",
       "  </tbody>\n",
       "</table>\n",
       "</div>"
      ],
      "text/plain": [
       "          Area                 Item         Element  Year Unit   Value  \\\n",
       "0  Afghanistan  Almonds, with shell  Area harvested  1975   ha     0.0   \n",
       "1  Afghanistan  Almonds, with shell  Area harvested  1976   ha  5900.0   \n",
       "2  Afghanistan  Almonds, with shell  Area harvested  1977   ha  6000.0   \n",
       "3  Afghanistan  Almonds, with shell  Area harvested  1978   ha  6000.0   \n",
       "4  Afghanistan  Almonds, with shell  Area harvested  1979   ha  6000.0   \n",
       "\n",
       "          Element_Unit  \n",
       "0  Area harvested (ha)  \n",
       "1  Area harvested (ha)  \n",
       "2  Area harvested (ha)  \n",
       "3  Area harvested (ha)  \n",
       "4  Area harvested (ha)  "
      ]
     },
     "execution_count": 25,
     "metadata": {},
     "output_type": "execute_result"
    }
   ],
   "source": [
    "# Keep only valid elements\n",
    "relevant_elements = ['Production', 'Area harvested', 'Yield']\n",
    "df = df[df['Element'].isin(relevant_elements)]\n",
    "\n",
    "# Keep years within 1961–2020\n",
    "df = df[df['Year'].between(1961, 2020)]\n",
    "\n",
    "# Combine Element + Unit\n",
    "df[\"Element_Unit\"] = df[\"Element\"] + \" (\" + df[\"Unit\"] + \")\"\n",
    "\n",
    "df.head()"
   ]
  },
  {
   "cell_type": "markdown",
   "id": "f7ae83a0",
   "metadata": {},
   "source": [
    "Handle Missing Values"
   ]
  },
  {
   "cell_type": "code",
   "execution_count": 26,
   "id": "fc303e3a",
   "metadata": {},
   "outputs": [
    {
     "data": {
      "text/plain": [
       "Area\n",
       "China, Macao SAR                    0.677419\n",
       "South Sudan                         0.495726\n",
       "Palestine                           0.475667\n",
       "Bahamas                             0.376623\n",
       "Namibia                             0.301544\n",
       "Bhutan                              0.285144\n",
       "Singapore                           0.280827\n",
       "Belize                              0.276244\n",
       "Micronesia (Federated States of)    0.275862\n",
       "Saint Lucia                         0.271454\n",
       "Name: Value, dtype: float64"
      ]
     },
     "execution_count": 26,
     "metadata": {},
     "output_type": "execute_result"
    }
   ],
   "source": [
    "# Missing value stats\n",
    "missing_by_area = df.groupby(\"Area\")[\"Value\"].apply(lambda x: x.isnull().mean()).sort_values(ascending=False)\n",
    "missing_by_area.head(10)"
   ]
  },
  {
   "cell_type": "code",
   "execution_count": 27,
   "id": "5c517c54",
   "metadata": {},
   "outputs": [],
   "source": [
    "# Drop missing Value rows\n",
    "df = df.dropna(subset=[\"Value\"])"
   ]
  },
  {
   "cell_type": "markdown",
   "id": "058faeb8",
   "metadata": {},
   "source": [
    "Transform: Winsorization + Log"
   ]
  },
  {
   "cell_type": "code",
   "execution_count": 28,
   "id": "0826ee65",
   "metadata": {},
   "outputs": [
    {
     "data": {
      "text/html": [
       "<div>\n",
       "<style scoped>\n",
       "    .dataframe tbody tr th:only-of-type {\n",
       "        vertical-align: middle;\n",
       "    }\n",
       "\n",
       "    .dataframe tbody tr th {\n",
       "        vertical-align: top;\n",
       "    }\n",
       "\n",
       "    .dataframe thead th {\n",
       "        text-align: right;\n",
       "    }\n",
       "</style>\n",
       "<table border=\"1\" class=\"dataframe\">\n",
       "  <thead>\n",
       "    <tr style=\"text-align: right;\">\n",
       "      <th></th>\n",
       "      <th>Value</th>\n",
       "      <th>Value_winsor</th>\n",
       "      <th>Value_log</th>\n",
       "    </tr>\n",
       "  </thead>\n",
       "  <tbody>\n",
       "    <tr>\n",
       "      <th>count</th>\n",
       "      <td>1.766475e+06</td>\n",
       "      <td>1.766475e+06</td>\n",
       "      <td>1.766475e+06</td>\n",
       "    </tr>\n",
       "    <tr>\n",
       "      <th>mean</th>\n",
       "      <td>1.077275e+06</td>\n",
       "      <td>5.115054e+05</td>\n",
       "      <td>9.981698e+00</td>\n",
       "    </tr>\n",
       "    <tr>\n",
       "      <th>std</th>\n",
       "      <td>1.403138e+07</td>\n",
       "      <td>2.182528e+06</td>\n",
       "      <td>2.809236e+00</td>\n",
       "    </tr>\n",
       "    <tr>\n",
       "      <th>min</th>\n",
       "      <td>0.000000e+00</td>\n",
       "      <td>6.000000e+00</td>\n",
       "      <td>1.945910e+00</td>\n",
       "    </tr>\n",
       "    <tr>\n",
       "      <th>25%</th>\n",
       "      <td>4.500000e+03</td>\n",
       "      <td>4.500000e+03</td>\n",
       "      <td>8.412055e+00</td>\n",
       "    </tr>\n",
       "    <tr>\n",
       "      <th>50%</th>\n",
       "      <td>2.687500e+04</td>\n",
       "      <td>2.687500e+04</td>\n",
       "      <td>1.019899e+01</td>\n",
       "    </tr>\n",
       "    <tr>\n",
       "      <th>75%</th>\n",
       "      <td>1.303910e+05</td>\n",
       "      <td>1.303910e+05</td>\n",
       "      <td>1.177830e+01</td>\n",
       "    </tr>\n",
       "    <tr>\n",
       "      <th>max</th>\n",
       "      <td>1.955308e+09</td>\n",
       "      <td>1.759109e+07</td>\n",
       "      <td>1.668290e+01</td>\n",
       "    </tr>\n",
       "  </tbody>\n",
       "</table>\n",
       "</div>"
      ],
      "text/plain": [
       "              Value  Value_winsor     Value_log\n",
       "count  1.766475e+06  1.766475e+06  1.766475e+06\n",
       "mean   1.077275e+06  5.115054e+05  9.981698e+00\n",
       "std    1.403138e+07  2.182528e+06  2.809236e+00\n",
       "min    0.000000e+00  6.000000e+00  1.945910e+00\n",
       "25%    4.500000e+03  4.500000e+03  8.412055e+00\n",
       "50%    2.687500e+04  2.687500e+04  1.019899e+01\n",
       "75%    1.303910e+05  1.303910e+05  1.177830e+01\n",
       "max    1.955308e+09  1.759109e+07  1.668290e+01"
      ]
     },
     "execution_count": 28,
     "metadata": {},
     "output_type": "execute_result"
    }
   ],
   "source": [
    "# Winsorization (capping extremes)\n",
    "df[\"Value_winsor\"] = winsorize(df[\"Value\"], limits=[0.01, 0.01])\n",
    "\n",
    "# Log transform (safe)\n",
    "df[\"Value_log\"] = np.log1p(df[\"Value_winsor\"])  # log(1 + x) handles 0s safely\n",
    "\n",
    "# Check transformation effect\n",
    "df[[\"Value\", \"Value_winsor\", \"Value_log\"]].describe()"
   ]
  },
  {
   "cell_type": "markdown",
   "id": "cab40046",
   "metadata": {},
   "source": [
    "Decade Binning"
   ]
  },
  {
   "cell_type": "code",
   "execution_count": 29,
   "id": "9912c332",
   "metadata": {},
   "outputs": [
    {
     "data": {
      "text/plain": [
       "Decade\n",
       "1960    218529\n",
       "1970    248287\n",
       "1980    266477\n",
       "1990    318976\n",
       "2000    338273\n",
       "2010    341472\n",
       "2020     34461\n",
       "Name: count, dtype: int64"
      ]
     },
     "execution_count": 29,
     "metadata": {},
     "output_type": "execute_result"
    }
   ],
   "source": [
    "df[\"Decade\"] = (df[\"Year\"] // 10) * 10\n",
    "df[\"Decade\"].value_counts().sort_index()"
   ]
  },
  {
   "cell_type": "markdown",
   "id": "65985bbd",
   "metadata": {},
   "source": [
    "Summary Groupings"
   ]
  },
  {
   "cell_type": "code",
   "execution_count": 30,
   "id": "bc196938",
   "metadata": {},
   "outputs": [
    {
     "data": {
      "text/plain": [
       "Area\n",
       "World                                      21123\n",
       "Asia                                       21030\n",
       "Net Food Importing Developing Countries    20175\n",
       "Americas                                   20031\n",
       "Africa                                     19783\n",
       "Eastern Asia                               19707\n",
       "Low Income Food Deficit Countries          19705\n",
       "South America                              18563\n",
       "Least Developed Countries                  18448\n",
       "Land Locked Developing Countries           18289\n",
       "Name: count, dtype: int64"
      ]
     },
     "metadata": {},
     "output_type": "display_data"
    },
    {
     "data": {
      "text/plain": [
       "Area\n",
       "Sudan                               1143\n",
       "Equatorial Guinea                   1125\n",
       "Micronesia (Federated States of)     714\n",
       "Tuvalu                               609\n",
       "Tokelau                              600\n",
       "Nauru                                572\n",
       "South Sudan                          531\n",
       "China, Macao SAR                     180\n",
       "Faroe Islands                        180\n",
       "Marshall Islands                      90\n",
       "Name: count, dtype: int64"
      ]
     },
     "metadata": {},
     "output_type": "display_data"
    },
    {
     "data": {
      "text/plain": [
       "Item\n",
       "Vegetables, fresh nes           38299\n",
       "Maize                           33103\n",
       "Tomatoes                        32207\n",
       "Potatoes                        30983\n",
       "Fruit, fresh nes                28904\n",
       "Tobacco, unmanufactured         27823\n",
       "Onions, dry                     27294\n",
       "Cabbages and other brassicas    27154\n",
       "Bananas                         26554\n",
       "Rice, paddy                     26424\n",
       "Name: count, dtype: int64"
      ]
     },
     "metadata": {},
     "output_type": "display_data"
    },
    {
     "data": {
      "text/plain": [
       "Item\n",
       "Melonseed              5389\n",
       "Pistachios             5250\n",
       "Vanilla                5152\n",
       "Persimmons             4848\n",
       "Kiwi fruit             4653\n",
       "Cinnamon (cannella)    3893\n",
       "Cloves                 3358\n",
       "Tung nuts              3093\n",
       "Ramie                  2719\n",
       "Tallowtree seed         654\n",
       "Name: count, dtype: int64"
      ]
     },
     "metadata": {},
     "output_type": "display_data"
    }
   ],
   "source": [
    "# Top and bottom areas\n",
    "display(df[\"Area\"].value_counts().head(10))\n",
    "display(df[\"Area\"].value_counts().tail(10))\n",
    "\n",
    "# Top and rare items\n",
    "display(df[\"Item\"].value_counts().head(10))\n",
    "display(df[\"Item\"].value_counts().tail(10))"
   ]
  },
  {
   "cell_type": "markdown",
   "id": "0b1d1929",
   "metadata": {},
   "source": [
    "Pivot for Wide Format (for modeling or visualization)"
   ]
  },
  {
   "cell_type": "code",
   "execution_count": 31,
   "id": "146a53a9",
   "metadata": {},
   "outputs": [
    {
     "data": {
      "text/html": [
       "<div>\n",
       "<style scoped>\n",
       "    .dataframe tbody tr th:only-of-type {\n",
       "        vertical-align: middle;\n",
       "    }\n",
       "\n",
       "    .dataframe tbody tr th {\n",
       "        vertical-align: top;\n",
       "    }\n",
       "\n",
       "    .dataframe thead th {\n",
       "        text-align: right;\n",
       "    }\n",
       "</style>\n",
       "<table border=\"1\" class=\"dataframe\">\n",
       "  <thead>\n",
       "    <tr style=\"text-align: right;\">\n",
       "      <th>Element</th>\n",
       "      <th>Area</th>\n",
       "      <th>Item</th>\n",
       "      <th>Year</th>\n",
       "      <th>Area harvested</th>\n",
       "      <th>Production</th>\n",
       "      <th>Yield</th>\n",
       "    </tr>\n",
       "  </thead>\n",
       "  <tbody>\n",
       "    <tr>\n",
       "      <th>0</th>\n",
       "      <td>Afghanistan</td>\n",
       "      <td>Almonds, with shell</td>\n",
       "      <td>1975</td>\n",
       "      <td>0.0</td>\n",
       "      <td>0.0</td>\n",
       "      <td>NaN</td>\n",
       "    </tr>\n",
       "    <tr>\n",
       "      <th>1</th>\n",
       "      <td>Afghanistan</td>\n",
       "      <td>Almonds, with shell</td>\n",
       "      <td>1976</td>\n",
       "      <td>5900.0</td>\n",
       "      <td>9800.0</td>\n",
       "      <td>16610.0</td>\n",
       "    </tr>\n",
       "    <tr>\n",
       "      <th>2</th>\n",
       "      <td>Afghanistan</td>\n",
       "      <td>Almonds, with shell</td>\n",
       "      <td>1977</td>\n",
       "      <td>6000.0</td>\n",
       "      <td>9000.0</td>\n",
       "      <td>15000.0</td>\n",
       "    </tr>\n",
       "    <tr>\n",
       "      <th>3</th>\n",
       "      <td>Afghanistan</td>\n",
       "      <td>Almonds, with shell</td>\n",
       "      <td>1978</td>\n",
       "      <td>6000.0</td>\n",
       "      <td>12000.0</td>\n",
       "      <td>20000.0</td>\n",
       "    </tr>\n",
       "    <tr>\n",
       "      <th>4</th>\n",
       "      <td>Afghanistan</td>\n",
       "      <td>Almonds, with shell</td>\n",
       "      <td>1979</td>\n",
       "      <td>6000.0</td>\n",
       "      <td>10500.0</td>\n",
       "      <td>17500.0</td>\n",
       "    </tr>\n",
       "  </tbody>\n",
       "</table>\n",
       "</div>"
      ],
      "text/plain": [
       "Element         Area                 Item  Year  Area harvested  Production  \\\n",
       "0        Afghanistan  Almonds, with shell  1975             0.0         0.0   \n",
       "1        Afghanistan  Almonds, with shell  1976          5900.0      9800.0   \n",
       "2        Afghanistan  Almonds, with shell  1977          6000.0      9000.0   \n",
       "3        Afghanistan  Almonds, with shell  1978          6000.0     12000.0   \n",
       "4        Afghanistan  Almonds, with shell  1979          6000.0     10500.0   \n",
       "\n",
       "Element    Yield  \n",
       "0            NaN  \n",
       "1        16610.0  \n",
       "2        15000.0  \n",
       "3        20000.0  \n",
       "4        17500.0  "
      ]
     },
     "execution_count": 31,
     "metadata": {},
     "output_type": "execute_result"
    }
   ],
   "source": [
    "pivot_df = df.pivot_table(\n",
    "    index=[\"Area\", \"Item\", \"Year\"], \n",
    "    columns=\"Element\", \n",
    "    values=\"Value\", \n",
    "    aggfunc=\"mean\"\n",
    ").reset_index()\n",
    "\n",
    "pivot_df.head()"
   ]
  },
  {
   "cell_type": "markdown",
   "id": "f02ad1d8",
   "metadata": {},
   "source": [
    "Save Cleaned Data"
   ]
  },
  {
   "cell_type": "code",
   "execution_count": 34,
   "id": "4c1b3485",
   "metadata": {},
   "outputs": [],
   "source": [
    "df.to_csv(\"../data/processed/crop1_clean.csv\", index=False)\n",
    "pivot_df.to_csv(\"../data/processed/crop_data_pivot.csv\", index=False)"
   ]
  },
  {
   "cell_type": "code",
   "execution_count": 35,
   "id": "4c11fd5e",
   "metadata": {},
   "outputs": [
    {
     "data": {
      "image/png": "[encoded data removed]",
      "text/plain": [
       "<Figure size 640x480 with 1 Axes>"
      ]
     },
     "metadata": {},
     "output_type": "display_data"
    }
   ],
   "source": [
    "sns.boxplot(data=df, x=\"Element\", y=\"Value_log\")\n",
    "plt.title(\"Log Value Distribution by Element\")\n",
    "plt.xticks(rotation=45)\n",
    "plt.tight_layout()\n",
    "plt.show()"
   ]
  }
 ],
 "metadata": {
  "kernelspec": {
   "display_name": "base",
   "language": "python",
   "name": "python3"
  },
  "language_info": {
   "codemirror_mode": {
    "name": "ipython",
    "version": 3
   },
   "file_extension": ".py",
   "mimetype": "text/x-python",
   "name": "python",
   "nbconvert_exporter": "python",
   "pygments_lexer": "ipython3",
   "version": "3.12.7"
  }
 },
 "nbformat": 4,
 "nbformat_minor": 5
}
